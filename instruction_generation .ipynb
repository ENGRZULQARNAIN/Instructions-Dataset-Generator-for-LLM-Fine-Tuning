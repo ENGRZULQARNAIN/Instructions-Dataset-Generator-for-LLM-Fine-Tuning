{
 "cells": [
  {
   "cell_type": "code",
   "execution_count": null,
   "id": "b07e9ce6",
   "metadata": {},
   "outputs": [],
   "source": [
    "!pip install langchain-google-genai\n",
    "!pip install langchain"
   ]
  },
  {
   "cell_type": "code",
   "execution_count": null,
   "id": "89afaf8e",
   "metadata": {},
   "outputs": [],
   "source": [
    "import pandas as pd\n",
    "import numpy as np "
   ]
  },
  {
   "cell_type": "markdown",
   "id": "c3e7cc4a",
   "metadata": {},
   "source": [
    "# Data Preprocessing"
   ]
  },
  {
   "cell_type": "code",
   "execution_count": null,
   "id": "68061b40",
   "metadata": {},
   "outputs": [],
   "source": [
    "#data loading\n",
    "df=pd.read_csv(\"indicators.csv\")"
   ]
  },
  {
   "cell_type": "code",
   "execution_count": null,
   "id": "274ed780",
   "metadata": {},
   "outputs": [],
   "source": [
    "df.sample(10)"
   ]
  },
  {
   "cell_type": "markdown",
   "id": "08efa5ee",
   "metadata": {},
   "source": [
    "# Data generation"
   ]
  },
  {
   "cell_type": "code",
   "execution_count": null,
   "id": "82ad93e7",
   "metadata": {},
   "outputs": [],
   "source": [
    "from langchain.output_parsers import ResponseSchema, StructuredOutputParser\n",
    "from langchain.prompts import PromptTemplate"
   ]
  },
  {
   "cell_type": "code",
   "execution_count": null,
   "id": "f7f0a7bc",
   "metadata": {},
   "outputs": [],
   "source": [
    "response_schemas = [\n",
    "    ResponseSchema(name=\"Instruction\", description=\"Instruction or Question that user Might ask to get that script\"),\n",
    "]\n",
    "output_parser = StructuredOutputParser.from_response_schemas(response_schemas)"
   ]
  },
  {
   "cell_type": "code",
   "execution_count": null,
   "id": "5ef34c51",
   "metadata": {},
   "outputs": [],
   "source": [
    "template=\"\"\"\n",
    "You are Given the Detailed Summary of the Trading Indicators Scripts Create Instruction or Question that could be used to Generate that Script (provide only one Instruction)\\n\n",
    "\\n{format_instructions}\\nSummary: {context} \")\n",
    "\n",
    "\"\"\"\n",
    "\n",
    "format_instructions = output_parser.get_format_instructions()\n",
    "prompt = PromptTemplate(\n",
    "    template=template,\n",
    "    input_variables=[\"context\"],\n",
    "    partial_variables={\"format_instructions\": format_instructions},\n",
    ")"
   ]
  },
  {
   "cell_type": "code",
   "execution_count": null,
   "id": "2117e263",
   "metadata": {},
   "outputs": [],
   "source": [
    "import os\n",
    "from langchain_google_genai import ChatGoogleGenerativeAI\n",
    "os.environ['GOOGLE_API_KEY'] = 'here is you gmini api key '\n",
    "llm = ChatGoogleGenerativeAI(model=\"gemini-pro\")\n",
    "chain = prompt | llm | output_parser"
   ]
  },
  {
   "cell_type": "code",
   "execution_count": null,
   "id": "eec05616",
   "metadata": {},
   "outputs": [],
   "source": [
    "Description=list(df[\"Descriptions\"])\n",
    "code=list(df[\"code\"])"
   ]
  },
  {
   "cell_type": "code",
   "execution_count": null,
   "id": "7cdfd1b7",
   "metadata": {},
   "outputs": [],
   "source": [
    "#Batches\n",
    "# batch1=Description[0:3000]\n",
    "# code_b1=code[0:3000]\n",
    "\n",
    "batch2=Description[3000:6000]\n",
    "code_b2=code[3000:6000]\n",
    "\n",
    "# batch3=Description[6000:9000]\n",
    "# code_b3=code[6000:9000]"
   ]
  },
  {
   "cell_type": "code",
   "execution_count": null,
   "id": "ca47ce3e",
   "metadata": {},
   "outputs": [],
   "source": [
    "# instructions1=[]\n",
    "instructions2=[]\n",
    "progress_flag=0\n",
    "# instructions3=[]"
   ]
  },
  {
   "cell_type": "code",
   "execution_count": null,
   "id": "31749134",
   "metadata": {},
   "outputs": [],
   "source": [
    "from tqdm import tqdm\n",
    "for i in tqdm(range(progress_flag,3000)):\n",
    "    response=chain.invoke({\"context\":batch2[i]})\n",
    "    instructions2.append(response[\"Instruction\"])\n",
    "    progress_flag=progress_flag+1\n",
    "    "
   ]
  },
  {
   "cell_type": "code",
   "execution_count": null,
   "id": "5fe03954",
   "metadata": {},
   "outputs": [],
   "source": []
  },
  {
   "cell_type": "code",
   "execution_count": null,
   "id": "4d11b7ef",
   "metadata": {},
   "outputs": [],
   "source": [
    "final_data=pd.DataFrame(columns=[\"Instructions\",\"code\"])"
   ]
  },
  {
   "cell_type": "code",
   "execution_count": null,
   "id": "be7d87d9",
   "metadata": {},
   "outputs": [],
   "source": [
    "final_data[\"Instructions\"]=instructions2\n",
    "final_data[\"code\"]=code_b2"
   ]
  },
  {
   "cell_type": "code",
   "execution_count": null,
   "id": "dd38a7e2",
   "metadata": {},
   "outputs": [],
   "source": [
    "final_data"
   ]
  },
  {
   "cell_type": "code",
   "execution_count": null,
   "id": "f927c6b4",
   "metadata": {},
   "outputs": [],
   "source": [
    "final_data.to_csv(\"pinescript_indicator_instructions_2.csv\",index=False)\n"
   ]
  },
  {
   "cell_type": "code",
   "execution_count": null,
   "id": "bdfdd0ef",
   "metadata": {},
   "outputs": [],
   "source": []
  }
 ],
 "metadata": {
  "kernelspec": {
   "display_name": "base",
   "language": "python",
   "name": "python3"
  },
  "language_info": {
   "codemirror_mode": {
    "name": "ipython",
    "version": 3
   },
   "file_extension": ".py",
   "mimetype": "text/x-python",
   "name": "python",
   "nbconvert_exporter": "python",
   "pygments_lexer": "ipython3",
   "version": "3.10.9 | packaged by Anaconda, Inc. | (main, Mar  1 2023, 18:18:15) [MSC v.1916 64 bit (AMD64)]"
  },
  "vscode": {
   "interpreter": {
    "hash": "3c06e3e46abf38078fe4dac36a0085ec2b134ebbd73dd076183d243eeca6918f"
   }
  }
 },
 "nbformat": 4,
 "nbformat_minor": 5
}
